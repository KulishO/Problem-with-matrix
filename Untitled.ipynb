{
 "cells": [
  {
   "cell_type": "code",
   "execution_count": 28,
   "metadata": {},
   "outputs": [],
   "source": [
    "import numpy as np\n",
    "import copy"
   ]
  },
  {
   "cell_type": "code",
   "execution_count": 34,
   "metadata": {},
   "outputs": [
    {
     "name": "stdout",
     "output_type": "stream",
     "text": [
      "Начальная матрица:\n",
      " [[-3.2  -2.5   3.7 ]\n",
      " [ 0.5   0.34  1.7 ]\n",
      " [ 1.6   2.3  -1.5 ]]\n"
     ]
    }
   ],
   "source": [
    "A7 = np.array([[-3.2,-2.5,3.7],[0.5, 0.34, 1.7],[1.6, 2.3, -1.5]])\n",
    "B7 = np.array([[6.5, -0.24, 4.3]]).transpose()\n",
    "print('Начальная матрица:\\n',A7)"
   ]
  },
  {
   "cell_type": "code",
   "execution_count": 30,
   "metadata": {},
   "outputs": [],
   "source": [
    "def prav(matrix1, matrix2):\n",
    "    for i in range(len(matrix1)):\n",
    "        if matrix1[i][i] < 0:\n",
    "            matrix1[i,:] = - matrix1[i,:] \n",
    "            matrix2[i] = - matrix2[i]\n",
    "    return matrix1, matrix2"
   ]
  },
  {
   "cell_type": "code",
   "execution_count": 35,
   "metadata": {},
   "outputs": [],
   "source": [
    "def jacobinitial(matrix1, matrix2):\n",
    "    for i in range(len(matrix1)):\n",
    "            matrix2[i] = - matrix2[i]/matrix1[i,i]\n",
    "            matrix1[i,:] = matrix1[i,:]/matrix1[i,i] \n",
    "    return matrix1, matrix2"
   ]
  },
  {
   "cell_type": "code",
   "execution_count": 42,
   "metadata": {},
   "outputs": [
    {
     "name": "stdout",
     "output_type": "stream",
     "text": [
      "Результат первой функции:\n",
      " [[ 1.          0.78125    -1.15625   ]\n",
      " [ 1.47058824  1.          5.        ]\n",
      " [-1.06666667 -1.53333333  1.        ]]\n",
      "Результат после первой функции:\n",
      " [[ 1.          0.78125    -1.15625   ]\n",
      " [ 1.47058824  1.          5.        ]\n",
      " [-1.06666667 -1.53333333  1.        ]]\n",
      "\n",
      "\n",
      "Результат второй  функции:\n",
      " [[ 1.          0.78125    -1.15625   ]\n",
      " [ 1.47058824  1.          5.        ]\n",
      " [-1.06666667 -1.53333333  1.        ]]\n",
      "Результат после первой функции:\n",
      " [[ 1.          0.78125    -1.15625   ]\n",
      " [ 1.47058824  1.          5.        ]\n",
      " [-1.06666667 -1.53333333  1.        ]]\n",
      "\n",
      "\n",
      "начальная матрица?:\n",
      " [[ 1.          0.78125    -1.15625   ]\n",
      " [ 1.47058824  1.          5.        ]\n",
      " [-1.06666667 -1.53333333  1.        ]]\n"
     ]
    }
   ],
   "source": [
    "A_prav_result, B_prav_result = prav(A7,B7)\n",
    "A_jacobinitial_result, B_jacobinitial_result = jacobinitial(A7,B7)\n",
    "print('Результат первой функции:\\n',A_prav_result)\n",
    "print('Результат после первой функции:\\n',A7)\n",
    "print (\"\\n\")\n",
    "\n",
    "print('Результат второй  функции:\\n',A_jacobinitial_result)\n",
    "print('Результат после первой функции:\\n',A7)\n",
    "print (\"\\n\")\n",
    "print(\"начальная матрица?:\\n\",A7)"
   ]
  }
 ],
 "metadata": {
  "kernelspec": {
   "display_name": "Python 3",
   "language": "python",
   "name": "python3"
  },
  "language_info": {
   "codemirror_mode": {
    "name": "ipython",
    "version": 3
   },
   "file_extension": ".py",
   "mimetype": "text/x-python",
   "name": "python",
   "nbconvert_exporter": "python",
   "pygments_lexer": "ipython3",
   "version": "3.6.5"
  }
 },
 "nbformat": 4,
 "nbformat_minor": 2
}
